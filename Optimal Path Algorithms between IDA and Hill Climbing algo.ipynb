{
  "cells": [
    {
      "cell_type": "markdown",
      "metadata": {
        "id": "MzZ4dJQYF7sH"
      },
      "source": [
        "# Optimal Path Algorithms between IDA* and Hill Climbing algo"
      ]
    },
    {
      "cell_type": "markdown",
      "metadata": {
        "id": "Fxb1aE9zF7sK"
      },
      "source": [
        "## Problem solving by Uninformed & Informed Search"
      ]
    },
    {
      "cell_type": "markdown",
      "metadata": {
        "id": "xI_cw-Q3Wh2m"
      },
      "source": []
    },
    {
      "cell_type": "markdown",
      "metadata": {
        "id": "pt5ygv_zF7sL"
      },
      "source": [
        "Things to follow\n",
        "1.\tUse appropriate data structures to represent the graph and the path using python libraries\n",
        "2.\tProvide proper documentation\n",
        "3.\tFind the path and print it"
      ]
    },
    {
      "cell_type": "markdown",
      "metadata": {
        "id": "wZfop5ElF7sL"
      },
      "source": [
        "Coding begins here"
      ]
    },
    {
      "cell_type": "markdown",
      "metadata": {
        "id": "IL0QDMy3F7sL"
      },
      "source": [
        "### 1.\tDefine the environment in the following block"
      ]
    },
    {
      "cell_type": "markdown",
      "metadata": {
        "id": "RYwJPNLIF7sM"
      },
      "source": [
        "List the PEAS decription of the problem here in this markdown block\n",
        "\n",
        "**Performance Measure**:\n",
        "- Minimize the total distance traveled by Rohan.\n",
        "- Ensure all required locations are visited exactly once.\n",
        "- Successful completion of the route from Admission Office *(start node)* to Exit *(end node)*.\n",
        "\n",
        "**Environment**:\n",
        "The university campus, represented as a graph with locations (nodes) and distances between them (edges).\n",
        "- Static environment - distances between locations don't change during the execution.\n",
        "- Fully observable - the agent has complete knowledge of the campus map and distances.\n",
        "- Discrete - locations and distances are distinct and measurable.\n",
        "- Deterministic - moving from one location to another always results in the same outcome (distance traveled).\n",
        "\n",
        "\n",
        "\n",
        "**Actuators**:\n",
        "Moving from one location (node) to an adjacent location.\n",
        "\n",
        "**Sensors**:\n",
        "- Knowledge of the current location.\n",
        "- Access to the campus map (graph) and distances.\n",
        "- Ability to sense whether a location has been visited before."
      ]
    },
    {
      "cell_type": "markdown",
      "metadata": {
        "id": "XJ3cHp1IF7sM"
      },
      "source": [
        "Design the agent as PSA Agent(Problem Solving Agent)\n",
        "Clear Initial data structures to define the graph and variable declarations is expected\n",
        "IMPORTATANT: Write distinct code block as below"
      ]
    },
    {
      "cell_type": "code",
      "execution_count": 30,
      "metadata": {
        "id": "osp61RsLF7sN"
      },
      "outputs": [],
      "source": [
        "#Code Block : Set Initial State (Must handle dynamic inputs)\n",
        "def get_user_input(graph):\n",
        "    print(\"Available Locations:\")\n",
        "    for location in graph.keys():\n",
        "        print(f\"- {location}\")\n",
        "    start = input(\"Enter the start location: \").strip()\n",
        "    end = input(\"Enter the end location: \").strip()\n",
        "    return start, end"
      ]
    },
    {
      "cell_type": "code",
      "execution_count": 31,
      "metadata": {
        "id": "XODwoWZ0F7sO"
      },
      "outputs": [],
      "source": [
        "#Code Block : Set the matrix for transition & cost (as relevant for the given problem)\n",
        "graph = {\n",
        "    \"Admission Office\": {\"Hostel Office\": 2, \"Library\": 4},\n",
        "    \"Hostel Office\": {\"Admission Office\": 2, \"Library\": 4, \"Canteen\": 6, \"Hostel visit\": 2},\n",
        "    \"Library\": {\"Admission Office\": 4, \"Hostel Office\": 4, \"Canteen\": 7, \"Dep’t visit\": 3},\n",
        "    \"Canteen\": {\"Hostel Office\": 6, \"Library\": 7, \"Dep’t visit\": 2, \"Exit\": 8, \"Hostel visit\": 6},\n",
        "    \"Dep’t visit\": {\"Library\": 3, \"Canteen\": 2, \"Exit\": 5},\n",
        "    \"Hostel visit\": {\"Hostel Office\": 2, \"Canteen\": 6, \"Exit\": 4},\n",
        "    \"Exit\": {\"Canteen\": 8, \"Dep’t visit\": 5, \"Hostel visit\": 4}\n",
        "}\n",
        "all_nodes = set(graph.keys())\n",
        "\n",
        "\n",
        "\n"
      ]
    },
    {
      "cell_type": "code",
      "execution_count": 32,
      "metadata": {
        "id": "ro24Gaj7F7sO"
      },
      "outputs": [],
      "source": [
        "#Code Block : Write function to design the Transition Model/Successor function. Ideally this would be called while search algorithms are implemented\n",
        "def transition_function(path, neighbor):\n",
        "  path.append(neighbor)\n",
        "  return path"
      ]
    },
    {
      "cell_type": "code",
      "execution_count": 33,
      "metadata": {
        "id": "HIVPhrRWF7sO"
      },
      "outputs": [],
      "source": [
        "#Code block : Write fucntion to handle goal test (Must handle dynamic inputs). Ideally this would be called while search algorithms are\n",
        "def isGoal(currentNode, end_node, visited_nodes, graph):\n",
        "  if (currentNode == end_node and set(visited_nodes) == all_nodes):\n",
        "    return True\n",
        "  return False"
      ]
    },
    {
      "cell_type": "code",
      "execution_count": 34,
      "metadata": {
        "id": "x6LGPQFTZuAU"
      },
      "outputs": [],
      "source": [
        "def heuristic(node, goal):\n",
        "    \"\"\"Heuristic function: Straight-line distance approximation\"\"\"\n",
        "    min_edge_cost = min(min(edges.values()) for edges in graph.values() if edges)  # Smallest possible step\n",
        "    return min_edge_cost * (len(graph) - len(node))"
      ]
    },
    {
      "cell_type": "markdown",
      "metadata": {
        "id": "Z4QwDeX5F7sO"
      },
      "source": [
        "### 2.\tDefinition of Algorithm 1 (Iterative Deepening A* Algorithm)"
      ]
    },
    {
      "cell_type": "code",
      "execution_count": 35,
      "metadata": {
        "id": "t3WLLLK1RK08"
      },
      "outputs": [],
      "source": [
        "import heapq\n",
        "\n",
        "def ida_star(graph, start, goal, all_nodes):\n",
        "    \"\"\"Iterative Deepening A* (IDA*) algorithm to visit all nodes\"\"\"\n",
        "    def search(path, g, bound, visited):\n",
        "        node = path[-1]\n",
        "        if isGoal(node, goal, visited, graph):\n",
        "            return g, path\n",
        "        f = g + heuristic(node, goal)\n",
        "        if f > bound:\n",
        "            return f, None\n",
        "        min_bound = float('inf')\n",
        "        for neighbor, cost in graph[node].items():\n",
        "            if neighbor not in visited:  # Ensure all nodes are visited\n",
        "                # path.append(neighbor)\n",
        "                transition_function(path, neighbor)\n",
        "                visited.add(neighbor)\n",
        "                new_g = g + cost\n",
        "                t, result = search(path, new_g, bound, visited)\n",
        "                if result:\n",
        "                    return t, result\n",
        "                if t < min_bound:\n",
        "                    min_bound = t\n",
        "                path.pop()\n",
        "                visited.remove(neighbor)\n",
        "        return min_bound, None\n",
        "\n",
        "    bound = heuristic(start, goal)\n",
        "    path = [start]\n",
        "    visited = {start}\n",
        "    while True:\n",
        "        t, result = search(path, 0, bound, visited)\n",
        "        if result:\n",
        "            return result, t\n",
        "        if t == float('inf'):\n",
        "            return None, float('inf')\n",
        "        bound = t\n",
        "\n",
        "\n"
      ]
    },
    {
      "cell_type": "markdown",
      "metadata": {
        "id": "KnbdDl6HF7sO"
      },
      "source": [
        "### 3.\tDefinition of Algorithm 2 (Hill Climbing algorithm)"
      ]
    },
    {
      "cell_type": "code",
      "execution_count": 36,
      "metadata": {
        "id": "NBHoltPOYLK8"
      },
      "outputs": [],
      "source": [
        "import random\n",
        "\n",
        "\n",
        "# Compute the total distance of a given path\n",
        "def path_distance(path, graph):\n",
        "    \"\"\"Calculate the total distance for a directed path.\"\"\"\n",
        "    total_distance = 0\n",
        "    for i in range(len(path) - 1):\n",
        "        if path[i+1] in graph[path[i]]:  # Check if the edge exists\n",
        "            total_distance += graph[path[i]][path[i+1]]\n",
        "        else:\n",
        "            return float('inf')  # Invalid path (breaks direction)\n",
        "    return total_distance\n",
        "\n",
        "# Generate a random valid path from start to end\n",
        "def random_path(start, end, all_nodes, graph):\n",
        "    nodes = list(all_nodes - {start, end})\n",
        "    random.shuffle(nodes)\n",
        "\n",
        "    # Ensure a valid directed path by picking allowed edges\n",
        "    path = [start]\n",
        "    while path[-1] != end: #and isGoal(path[-1], end, path, graph):\n",
        "        possible_next_nodes = list(set(graph[path[-1]].keys()) - set(path))  # Get valid moves\n",
        "        if not possible_next_nodes:\n",
        "            return None  # Dead end (invalid path)\n",
        "        next_node = random.choice(possible_next_nodes)\n",
        "        path.append(next_node)\n",
        "\n",
        "    return path if isGoal(path[-1], end, path, graph) else None  # Ensure all nodes are visited\n",
        "\n",
        "# Hill Climbing Algorithm\n",
        "def hill_climb(graph, start, end, all_nodes):\n",
        "    current_path = None\n",
        "    while current_path is None:  # Ensure we get a valid starting path\n",
        "        current_path = random_path(start, end, all_nodes, graph)\n",
        "\n",
        "    current_distance = path_distance(current_path, graph) + heuristic(current_path[-1], end)\n",
        "\n",
        "    while True:\n",
        "        neighbors = []\n",
        "        for i in range(1, len(current_path) - 2):  # Avoid swapping start/end\n",
        "            for j in range(i + 1, len(current_path) - 1):\n",
        "                new_path = current_path[:]\n",
        "                new_path[i], new_path[j] = new_path[j], new_path[i]  # Swap\n",
        "\n",
        "                # Ensure the new path is still valid and improves the heuristic\n",
        "                new_distance = path_distance(new_path, graph) + heuristic(new_path[-1], end)\n",
        "                if new_distance < float('inf'):\n",
        "                    transition_function(neighbors, (new_path, new_distance))\n",
        "                    # neighbors.append((new_path, new_distance))\n",
        "\n",
        "        # Pick the best valid neighbor based on heuristic\n",
        "        best_neighbor, best_distance = min(neighbors, key=lambda x: x[1], default=(None, None))\n",
        "        if best_neighbor and best_distance < current_distance:\n",
        "            current_path = best_neighbor\n",
        "            current_distance = best_distance\n",
        "        else:\n",
        "            break  # Local minimum reached\n",
        "\n",
        "    return current_path, path_distance(current_path, graph)"
      ]
    },
    {
      "cell_type": "markdown",
      "metadata": {
        "id": "LEV2XHccF7sP"
      },
      "source": [
        "### DYNAMIC INPUT"
      ]
    },
    {
      "cell_type": "markdown",
      "metadata": {
        "id": "CylYRo_DF7sP"
      },
      "source": [
        "IMPORTANT : Dynamic Input must be got in this section. Display the possible states to choose from:\n",
        "This is applicable for all the relevent problems as mentioned in the question."
      ]
    },
    {
      "cell_type": "code",
      "execution_count": 37,
      "metadata": {
        "colab": {
          "base_uri": "https://localhost:8080/"
        },
        "id": "Q5t1Lc-wF7sP",
        "outputId": "1069705c-9656-4e03-bf12-0d3ed57ad9c2"
      },
      "outputs": [
        {
          "name": "stdout",
          "output_type": "stream",
          "text": [
            "Available Locations:\n",
            "- Admission Office\n",
            "- Hostel Office\n",
            "- Library\n",
            "- Canteen\n",
            "- Dep’t visit\n",
            "- Hostel visit\n",
            "- Exit\n",
            "Enter the start location: Admission Office\n",
            "Enter the end location: Exit\n"
          ]
        }
      ],
      "source": [
        "#Code Block : Function & call to get inputs (start/end state)\n",
        "\n",
        "start_node, end_node = get_user_input(graph)"
      ]
    },
    {
      "cell_type": "markdown",
      "metadata": {
        "id": "xsfOP81lF7sP"
      },
      "source": [
        "### 4.\tCalling the search algorithms\n",
        "(For bidirectional search in below sections first part can be used as per Hint provided. Under second section other combinations as per Hint or your choice of 2 algorithms can be called .As an analyst suggest suitable approximation in the comparitive analysis section)"
      ]
    },
    {
      "cell_type": "code",
      "execution_count": 38,
      "metadata": {
        "colab": {
          "base_uri": "https://localhost:8080/"
        },
        "id": "Og5zI9thF7sP",
        "outputId": "fb06e066-7e72-4396-e8c1-850e4b2c3dfd"
      },
      "outputs": [
        {
          "name": "stdout",
          "output_type": "stream",
          "text": [
            "Optimal Path: Admission Office → Library → Dep’t visit → Canteen → Hostel Office → Hostel visit → Exit\n",
            "Total Distance: 21\n"
          ]
        }
      ],
      "source": [
        "#Invoke algorithm 1 (Should Print the solution, path, cost etc., (As mentioned in the problem))\n",
        "\n",
        "optimal_path, total_distance = ida_star(graph, start_node, end_node, all_nodes)\n",
        "\n",
        "# Print results\n",
        "if optimal_path:\n",
        "    print(\"Optimal Path:\", \" → \".join(optimal_path))\n",
        "    print(\"Total Distance:\", total_distance)\n",
        "else:\n",
        "    print(\"No path found.\")"
      ]
    },
    {
      "cell_type": "code",
      "execution_count": 39,
      "metadata": {
        "colab": {
          "base_uri": "https://localhost:8080/"
        },
        "id": "u3MJeA6eF7sP",
        "outputId": "0097abdf-53ac-41c8-fcad-9fa861df4538"
      },
      "outputs": [
        {
          "name": "stdout",
          "output_type": "stream",
          "text": [
            "Optimal Path: Admission Office → Library → Dep’t visit → Canteen → Hostel Office → Hostel visit → Exit\n",
            "Total Distance: 21\n"
          ]
        }
      ],
      "source": [
        "#Invoke algorithm 2 (Should Print the solution, path, cost etc., (As mentioned in the problem))\n",
        "\n",
        "best_path, best_distance = None, float('inf')\n",
        "for _ in range(5):  # Try 5 random restarts\n",
        "    path, dist = hill_climb(graph, start_node, end_node, all_nodes)\n",
        "    # print(\"iteration \", _, path, dist)  # comment this line out at the end.\n",
        "    if dist < best_distance:\n",
        "        best_path, best_distance = path, dist\n",
        "\n",
        "# Print the best result\n",
        "print(\"Optimal Path:\", \" → \".join(best_path))\n",
        "print(\"Total Distance:\", best_distance)"
      ]
    },
    {
      "cell_type": "markdown",
      "metadata": {
        "id": "TOU3Rem6F7sQ"
      },
      "source": [
        "### 5.\tComparitive Analysis (Time and Space Complexity)"
      ]
    },
    {
      "cell_type": "code",
      "execution_count": 40,
      "metadata": {
        "colab": {
          "base_uri": "https://localhost:8080/"
        },
        "id": "HG6fWwiIF7sQ",
        "outputId": "be415c99-643f-4663-8e8b-c68c78d22ae1"
      },
      "outputs": [
        {
          "name": "stdout",
          "output_type": "stream",
          "text": [
            "Iterative Deepening A* Search Complexity:\n",
            "Time Complexity:  O(b^d)  where b is the branching factor and d is the depth of the solution.\n",
            "Space Complexity: O(bd) where b is the branching factor and d is the depth of the solution.\n"
          ]
        }
      ],
      "source": [
        "#Code Block : Print the Time & Space complexity of algorithm 1\n",
        "print(\"Iterative Deepening A* Search Complexity:\")\n",
        "print(\"Time Complexity:  O(b^d)  where b is the branching factor and d is the depth of the solution.\") #In the worst case, IDA* may explore all possible paths up to the solution depth.\n",
        "print(\"Space Complexity: O(bd) where b is the branching factor and d is the depth of the solution.\") #IDA* performs a depth-first search, its space complexity is linear with the depth of the search."
      ]
    },
    {
      "cell_type": "code",
      "execution_count": 41,
      "metadata": {
        "colab": {
          "base_uri": "https://localhost:8080/"
        },
        "id": "xMButLKCF7sQ",
        "outputId": "bae3719e-2d08-43d6-c91a-b6d3274d6c60"
      },
      "outputs": [
        {
          "name": "stdout",
          "output_type": "stream",
          "text": [
            "\n",
            "Hill Climbing Search Complexity:\n",
            "Time Complexity: O(number of iterations * cost of successor function)\n",
            "Space Complexity: O(b), where b is the average size of local neighbours/successors explored.\n"
          ]
        }
      ],
      "source": [
        "# Code Block : Print the Time & Space complexity of algorithm 2\n",
        "print(\"\\nHill Climbing Search Complexity:\")\n",
        "print(\"Time Complexity: O(number of iterations * cost of successor function)\") #Depends on the heuristic and landscape\n",
        "print(\"Space Complexity: O(b), where b is the average size of local neighbours/successors explored.\") #Hill climbing only stores current state."
      ]
    },
    {
      "cell_type": "markdown",
      "metadata": {
        "id": "y2nXwAlsF7sQ"
      },
      "source": [
        "### 6.\tProvide your comparitive analysis or findings in no more than 3 lines in below section"
      ]
    },
    {
      "cell_type": "markdown",
      "metadata": {
        "id": "si483-zoF7sQ"
      },
      "source": [
        "**Comparison** : Iterative Deepening A* guarantees an optimal solution (given an admissible heuristic), but can be slower. Hill Climbing is faster but may get stuck in local optima.\n",
        "The choice of algorithm depends on whether optimality is crucial or a \"good enough\" solution is acceptable within a shorter time."
      ]
    }
  ],
  "metadata": {
    "colab": {
      "provenance": []
    },
    "kernelspec": {
      "display_name": "Python 3",
      "language": "python",
      "name": "python3"
    },
    "language_info": {
      "codemirror_mode": {
        "name": "ipython",
        "version": 3
      },
      "file_extension": ".py",
      "mimetype": "text/x-python",
      "name": "python",
      "nbconvert_exporter": "python",
      "pygments_lexer": "ipython3",
      "version": "3.7.6"
    }
  },
  "nbformat": 4,
  "nbformat_minor": 0
}
